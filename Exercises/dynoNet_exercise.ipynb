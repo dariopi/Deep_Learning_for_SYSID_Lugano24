{
 "cells": [
  {
   "cell_type": "markdown",
   "metadata": {},
   "source": [
    "# dynoNet: Exercise\n",
    "## Application to Ground Vibration Test of an F-16 aircraft. Description of the benchmark: https://www.nonlinearbenchmark.org/benchmarks/f-16-gvt\n",
    "\n",
    "### Course on Deep Learning for System Identification\n",
    "### Authors: Dario Piga, Marco Forgione\n",
    "### Lugano, April 8th, 2024"
   ]
  },
  {
   "cell_type": "markdown",
   "metadata": {},
   "source": [
    "Repeat the same exercise on the identification of the F16 aircraft.  **Use a dynoNet** instead of Feedforward and RNN networks.\n",
    "\n",
    "Hyper-parameter to select:\n",
    "* structure of the network \n",
    "* input and output lags of the LTI blocks\n",
    "* structure of the Static Nonlinearities\n",
    "* sub-sequence length for training and batch size\n",
    "* number of initial samples skipped in the creation of the loss \n",
    "* optimizer's hyper-parameters (learning rate, maximum number of epochs)"
   ]
  },
  {
   "cell_type": "markdown",
   "metadata": {},
   "source": [
    "Run the following cell to import possible useful packages and classes."
   ]
  },
  {
   "cell_type": "code",
   "execution_count": null,
   "metadata": {},
   "outputs": [],
   "source": [
    "import matplotlib.pyplot as plt\n",
    "import os\n",
    "import numpy as np\n",
    "import dynonet\n",
    "from dynonet.lti import MimoLinearDynamicalOperator\n",
    "from dynonet.static import MimoStaticNonLinearity\n",
    "from sklearn.preprocessing import StandardScaler\n",
    "import pandas as pd\n",
    "import torch \n",
    "import torch.nn as nn # the pytorch nn model contains all the layers we need to define a feedforward NN \n",
    "import torch.nn.functional as F\n",
    "from torchsummary import summary\n",
    "import torch.optim as optim\n",
    "from sklearn.metrics import r2_score\n",
    "\n",
    "# Enable interactive figures for Jupyter Notebooks.\n",
    "%matplotlib widget \n",
    "from torch.utils.data import Dataset, DataLoader\n",
    "from dataset import F16DS_seq"
   ]
  },
  {
   "cell_type": "markdown",
   "metadata": {},
   "source": [
    "Since dynoNet receives as an input the input sequence of the system, the same *DataSet* class *F16DS_seq* used for training RNN can be also used in this exercise. Each element of the *F16DS_seq* Dataset is a pair with:\n",
    "- input sub-sequences of a given length (since we are considering two inputs, we have 2 input sub-sequences)\n",
    "- corresponding output sequences (if you consider all the three outputs, you will have 3 outputs)\n",
    "\n",
    "For your convenience, you can run the cell below to upload the dataset and instantiate the *F16DS_seq* class."
   ]
  },
  {
   "cell_type": "code",
   "execution_count": null,
   "metadata": {},
   "outputs": [],
   "source": [
    "input_size = 2\n",
    "seq_len = 10000 # length of subsequence\n",
    "batch_size = 4\n",
    "ind_out = [0, 1, 2] # it should be a list\n",
    "\n",
    "folder = os.path.join('..', 'Datasets', 'F16')\n",
    "f_train_ds =  os.path.join(folder, 'F16Data_SineSw_Level3.csv')\n",
    "f_test_ds = os.path.join(folder, 'F16Data_SineSw_Level4_Validation.csv')\n",
    "\n",
    "\n",
    "dict_ds = {'train': [], 'test': [],}\n",
    "dict_ds['train'] = pd.read_csv(f_train_ds) \n",
    "dict_ds['test'] = pd.read_csv(f_test_ds)\n",
    "\n",
    "\n",
    "ds_mean = dict_ds['train'].mean() \n",
    "ds_std = dict_ds['train'].std()\n",
    "dict_ds['train']  = (dict_ds['train'] - ds_mean)/ds_std\n",
    "dict_ds['test']  = (dict_ds['test'] - ds_mean)/ds_std\n",
    "\n",
    "F16DS_train = F16DS_seq(pd_file=dict_ds['train'], seq_len = seq_len, ind_out=ind_out)\n",
    "loader_train = DataLoader(F16DS_train, shuffle=True, batch_size=batch_size)\n",
    "u, y = next(iter(loader_train))\n",
    "print(y.shape)"
   ]
  }
 ],
 "metadata": {
  "kernelspec": {
   "display_name": "Python 3 (ipykernel)",
   "language": "python",
   "name": "python3"
  },
  "language_info": {
   "codemirror_mode": {
    "name": "ipython",
    "version": 3
   },
   "file_extension": ".py",
   "mimetype": "text/x-python",
   "name": "python",
   "nbconvert_exporter": "python",
   "pygments_lexer": "ipython3",
   "version": "3.11.8"
  }
 },
 "nbformat": 4,
 "nbformat_minor": 4
}
