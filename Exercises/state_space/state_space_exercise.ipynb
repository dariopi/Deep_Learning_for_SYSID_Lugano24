{
 "cells": [
  {
   "cell_type": "markdown",
   "metadata": {},
   "source": [
    "# Deep learning for state-space identification\n",
    "## Application to identification of cascaded tanks system\n",
    "\n",
    "### Course on Deep Learning for System Identification\n",
    "### Authors: Marco Forgione, Dario Piga\n",
    "### Lugano, April 4th, 2024"
   ]
  },
  {
   "cell_type": "markdown",
   "metadata": {},
   "source": [
    "Estimate a neural state-space model of the system, under the following physical information:\n",
    "\n",
    "- Model #1. The only physical information used is state dimension (nx = 2)\n",
    "- Model #2. Same information used to construct Model #1 + $y=x_2$ (namely, the g funtion is known)\n",
    "- Model #3. Same information used to construct Model #1 + state $x_1$ does not depend on $x_2$."
   ]
  },
  {
   "cell_type": "markdown",
   "metadata": {},
   "source": [
    "Run the following cells to load data, create train/test sets, normalize the data"
   ]
  },
  {
   "cell_type": "code",
   "execution_count": null,
   "metadata": {},
   "outputs": [],
   "source": [
    "import matplotlib.pyplot as plt\n",
    "import numpy as np\n",
    "import pandas as pd\n",
    "import os\n",
    "import torch\n",
    "from torch import nn as nn\n",
    "%matplotlib widget "
   ]
  },
  {
   "cell_type": "code",
   "execution_count": null,
   "metadata": {},
   "outputs": [],
   "source": [
    "# data loading\n",
    "\n",
    "folder = os.path.join('..','..','Datasets', 'CascadedTanks')  #change path according to the location of your csv file \n",
    "file = os.path.join(folder, 'dataBenchmark.csv') \n",
    "dataset = pd.read_csv(file)\n",
    "print('\\n Dataset info: \\n')\n",
    "\n",
    "\n",
    "# rename the columns in training and test sequences (we typically call validation set the one used to tune algorithms' hyper-parameters)\n",
    "dataset = dataset.rename(columns = {'uEst': 'u_train', 'uVal': 'u_test', 'yEst': 'y_train', 'yVal': 'y_test', })\n",
    "print(dataset)\n",
    "\n",
    "u_train = torch.tensor(dataset['u_train'], dtype=torch.float32)\n",
    "y_train = torch.tensor(dataset['y_train'], dtype=torch.float32)\n",
    "\n",
    "u_test = torch.tensor(dataset['u_test'], dtype=torch.float32)\n",
    "y_test = torch.tensor(dataset['y_test'], dtype=torch.float32)"
   ]
  },
  {
   "cell_type": "code",
   "execution_count": null,
   "metadata": {},
   "outputs": [],
   "source": [
    "# scaling \n",
    "u_mean = torch.mean(u_train); u_std = torch.std(u_train) \n",
    "y_mean = torch.mean(y_train); y_std = torch.std(y_train)  \n",
    "\n",
    "u_train = (u_train-u_mean)/u_std\n",
    "u_test = (u_test-u_mean)/u_std\n",
    "\n",
    "y_train = (y_train-y_mean)/y_std\n",
    "y_test = (y_test-y_mean)/y_std"
   ]
  },
  {
   "cell_type": "markdown",
   "metadata": {},
   "source": [
    "## Hint\n",
    "\n",
    "Have a look at the provided playground script, where a *NeuralStateUpdate* class is already defined, along with a *StateSpaceSimulator* class which can be used to simulate the evolution of the state for a given instance of the *NeuralStateUpdate* class, a given initial condition $x0$, and a given input sequence $u$."
   ]
  }
 ],
 "metadata": {
  "kernelspec": {
   "display_name": "Python 3 (ipykernel)",
   "language": "python",
   "name": "python3"
  },
  "language_info": {
   "codemirror_mode": {
    "name": "ipython",
    "version": 3
   },
   "file_extension": ".py",
   "mimetype": "text/x-python",
   "name": "python",
   "nbconvert_exporter": "python",
   "pygments_lexer": "ipython3",
   "version": "3.11.8"
  }
 },
 "nbformat": 4,
 "nbformat_minor": 4
}
