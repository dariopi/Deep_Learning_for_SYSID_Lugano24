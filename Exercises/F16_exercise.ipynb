{
 "cells": [
  {
   "cell_type": "markdown",
   "id": "ddb2fa1b",
   "metadata": {},
   "source": [
    "# Feedforward and Recurrent Neural Networks\n",
    "## Application to Ground Vibration Test of an F-16 aircraft. Description of the benchmark: https://www.nonlinearbenchmark.org/benchmarks/f-16-gvt\n",
    "\n",
    "### Course on Deep Learning for System Identification\n",
    "### Authors: Dario Piga, Marco Forgione\n",
    "### Lugano, March 7th, 2024"
   ]
  },
  {
   "cell_type": "markdown",
   "id": "33297073",
   "metadata": {},
   "source": [
    "## Goal: estimate the dynamical behaviour of an F-16 aircraft due to vibrations\n",
    "\n",
    "**- Inputs**: \n",
    "1. voltage measured at the output of the signal generator amplifier, acting as a reference input,\n",
    "2. actual force provided by the shaker and measured by a impedance head at the excitation location.\n",
    "\n",
    "**- Outputs:** acceleration signals measured:\n",
    "1. at the excitation location ('Acceleration 1')\n",
    "2. on the right wing next to the interface ('Acceleration 2')\n",
    "3. on the payload next to the interface ('Acceleration 3')"
   ]
  },
  {
   "attachments": {
    "immagine-2.png": {
     "image/png": "[encoded data removed]"
    },
    "immagine.png": {
     "image/png": "[encoded data removed]"
    }
   },
   "cell_type": "markdown",
   "id": "93a6d5df",
   "metadata": {},
   "source": [
    "# Exercise 1 (Feedforward NN):\n",
    "\n",
    "- **Estimate a nonlinear model** describing the relation between the inputs and the three outputs.\n",
    "- Since the two inputs are strongly correlated, you can use either both inputs in your model, or just one of them.\n",
    "- Create three independent models, one for each output. Or alternatively, create one single model with 3 outputs.\n",
    "- For the output $y_i$ (i=0,1,2), **consider as a model architecture a fully-connected feedforward Neural Network** taking past  measurements of the two inputs (up to time k) and  measurements of the $i$-th output (up to time k-1), and returning an estimate of the output at time k.\n",
    "- **Test your results** in the dataset not used for training. Check the performance of your model both on 1-step ahead prediction and simulation. You can use the following metrics to assess the performance of your model:\n",
    "\n",
    "![immagine.png](attachment:immagine.png)\n",
    "\n",
    "![immagine-2.png](attachment:immagine-2.png)"
   ]
  },
  {
   "cell_type": "markdown",
   "id": "c0908a5c",
   "metadata": {},
   "source": [
    "## Step 0: Data importing and normalization\n",
    "\n",
    "Train and test datasets are saved in the GitHub folder *Dataset\\F16*, both in a .mat and .csv  format.\n",
    "- **Train dataset**: F16Data_SineSw_Level3\n",
    "- **Test datasets**: F16Data_SineSw_Level4_Validation\n",
    "\n",
    "For instance, you can read the csv file using the command ``pd.read_csv'' from pandas library (see cell below). \n",
    "\n",
    "From the available dataset, construct the regressor (containing past measurements of inputs and output). Alternatively, we have already prepared for you a subclass of the PyTorch class *Dataset*, called *F16DS*, which provides for you regressor x(k) and associated output y(k). In the *F16DS* class, the regressor is made by: the two inputs from time k up to time k-nb;  one signle output of interest from time k-1 up to time k-na. Hyper-parameters nb and na, as well as the output of interest, must be specified by the user.\n",
    "\n",
    "See cells below to import the Database and use the dataLoader to extract element from the database. Data normalization is also performed. \n",
    "\n",
    "Feel free to run the cells below or write your own script to read and process the data. "
   ]
  },
  {
   "cell_type": "code",
   "execution_count": 4,
   "id": "da4426c0",
   "metadata": {},
   "outputs": [],
   "source": [
    "# F16 - data reading and normalizatiob\n",
    "import os\n",
    "import pandas as pd\n",
    "import torch\n",
    "\n",
    "\n",
    "folder = os.path.join('..', 'Datasets', 'F16') \n",
    "f_train_ds =  os.path.join(folder, 'F16Data_SineSw_Level3.csv')\n",
    "f_test_ds = os.path.join(folder, 'F16Data_SineSw_Level4_Validation.csv')\n",
    "\n",
    "# create dictionary with training and test dataset\n",
    "dict_ds = {'train': [], 'test': [],}\n",
    "dict_ds['train'] = pd.read_csv(f_train_ds) \n",
    "dict_ds['test'] = pd.read_csv(f_test_ds)\n",
    "\n",
    "# data normalization\n",
    "ds_mean = dict_ds['train'].mean() \n",
    "ds_std = dict_ds['train'].std()\n",
    "dict_ds['train']  = (dict_ds['train'] - ds_mean)/ds_std\n",
    "dict_ds['test']  = (dict_ds['test'] - ds_mean)/ds_std\n"
   ]
  },
  {
   "cell_type": "code",
   "execution_count": 5,
   "id": "7952a701",
   "metadata": {},
   "outputs": [
    {
     "name": "stdout",
     "output_type": "stream",
     "text": [
      "Training: regressor at step 10: tensor([-4.0133e-03,  3.9508e-04,  1.0225e-03,  8.7239e-04,  4.1384e-03,\n",
      "        -5.5150e-04, -8.1693e-04, -8.7056e-04, -4.4369e-03,  1.4034e-04,\n",
      "         9.1528e-04,  6.8470e-04,  3.7040e-03, -8.2230e-04, -9.5640e-04,\n",
      "        -8.1961e-04, -4.4101e-03,  2.2347e-04,  8.1070e-04,  3.7631e-04,\n",
      "         3.6745e-03,  2.9666e-04,  4.7372e-04,  5.9176e-04,  3.5567e-04,\n",
      "         2.9666e-04,  6.5077e-04,  3.5567e-04,  3.5567e-04,  2.9666e-04,\n",
      "         2.9666e-04,  3.2617e-04,  1.7861e-04,  2.3763e-04,  2.9666e-04,\n",
      "         3.5567e-04, -5.7473e-05,  1.7861e-04, -1.4601e-04,  2.0812e-04,\n",
      "         4.4422e-04,  1.7861e-04, -4.1637e-03,  1.4640e-02, -1.1820e-04,\n",
      "        -8.2093e-03,  9.9796e-03]) \n",
      "\n",
      "Training: output at step 10: tensor([0.0149]) \n",
      "\n"
     ]
    }
   ],
   "source": [
    "# create custome DataSet\n",
    "from torch.utils.data import Dataset, DataLoader\n",
    "from dataset import F16DS\n",
    "\n",
    "# \n",
    "ind_out = 0 # output index (0 or 1 or 2)\n",
    "na = 5  # output lag\n",
    "nb = 20 # input lag\n",
    "\n",
    "# Create Dataset (trainign and test)\n",
    "F16DS_train = F16DS(pd_file = dict_ds['train'], na = na, nb = nb, ind_out = ind_out)\n",
    "F16DS_test = F16DS(pd_file = dict_ds['test'], na = na, nb = nb, ind_out = ind_out)\n",
    "\n",
    "# access elements of the datasets. Example\n",
    "idx = 10 # sample index\n",
    "x, y = F16DS_train[idx]\n",
    "\n",
    "print(f\"Training: regressor at step {idx}: {x} \\n\")\n",
    "print(f\"Training: output at step {idx}: {y} \\n\")\n"
   ]
  },
  {
   "cell_type": "code",
   "execution_count": 8,
   "id": "f58519d6-36d8-422d-8444-dc7df41033e6",
   "metadata": {},
   "outputs": [
    {
     "name": "stdout",
     "output_type": "stream",
     "text": [
      "size of the regressor: torch.Size([4, 47]);  size of the output: torch.Size([4, 1])\n"
     ]
    }
   ],
   "source": [
    "# create and test a dataloader of batch size\n",
    "loader_train = DataLoader(F16DS_train, shuffle=True, batch_size= 4) # define data loader \n",
    "\n",
    "# see one batch of the dataloader\n",
    "x, y = next(iter(loader_train))\n",
    "print(f\"size of the regressor: {x.shape};  size of the output: {y.shape}\")"
   ]
  },
  {
   "cell_type": "markdown",
   "id": "08ac0696",
   "metadata": {},
   "source": [
    "##  Suggested steps:"
   ]
  },
  {
   "cell_type": "markdown",
   "id": "99d5b9b8",
   "metadata": {},
   "source": [
    "## Step 1. \n",
    "\n",
    "Familiarize with the data. It is also a good practive to plot the input and output signals, see the length, mean and standard deviation, etc."
   ]
  },
  {
   "cell_type": "markdown",
   "id": "ec10062d",
   "metadata": {},
   "source": [
    "## Step 2. \n",
    "\n",
    "After importing useful packages, define a class for your network (see template below)"
   ]
  },
  {
   "cell_type": "code",
   "execution_count": 3,
   "id": "28310b2f",
   "metadata": {},
   "outputs": [],
   "source": [
    "# importing torch and other packages\n",
    "\n",
    "import matplotlib.pyplot as plt\n",
    "import torch \n",
    "import torch.nn as nn # the pytorch nn model contains all the layers we need to define a feedforward NN \n",
    "import torch.nn.functional as F\n",
    "from torchsummary import summary\n",
    "import torch.optim as optim\n",
    "from sklearn.metrics import r2_score\n",
    "import os\n",
    "import pandas as pd\n",
    "import numpy as np\n",
    "  \n",
    "# Enable interactive figures for Jupyter Notebooks.\n",
    "%matplotlib widget "
   ]
  },
  {
   "cell_type": "code",
   "execution_count": 4,
   "id": "33a28bf5",
   "metadata": {},
   "outputs": [
    {
     "name": "stdout",
     "output_type": "stream",
     "text": [
      "FeedforwardNeuralNetwork()\n"
     ]
    }
   ],
   "source": [
    "class FeedforwardNeuralNetwork(nn.Module):\n",
    "    def __init__(self, input_size, hidden_sizes, output_size):\n",
    "        super(FeedforwardNeuralNetwork, self).__init__()\n",
    "\n",
    "        # define here your hidden layers (Linear Layers and activation functions) and output layer (Linear Layer)\n",
    "\n",
    "        ...\n",
    "        \n",
    "    def forward(self, x):\n",
    "        # Pass the input through the hidden layer, apply activation, and then pass through output layer\n",
    "        \n",
    "        ...\n",
    "        \n",
    "        return x\n",
    "\n",
    "# Example usage:\n",
    "# Define a network of proper input size, hidden sizes of 5, 30, and 20. and output size of 1\n",
    "input_size = F16DS_train[0][0].shape[0] # compute input size (size of the regressor)\n",
    "net = FeedforwardNeuralNetwork(input_size=input_size, hidden_sizes=[5, 30, 20], output_size=1)\n",
    "\n",
    "print(net)"
   ]
  },
  {
   "cell_type": "markdown",
   "id": "0f3591a4",
   "metadata": {},
   "source": [
    "## Step 3.\n",
    "Train your network (see template below, complete it and/or modify it as you like)"
   ]
  },
  {
   "cell_type": "code",
   "execution_count": 5,
   "id": "b916a071",
   "metadata": {},
   "outputs": [
    {
     "ename": "TypeError",
     "evalue": "FeedforwardNeuralNetwork.__init__() missing 2 required positional arguments: 'hidden_sizes' and 'output_size'",
     "output_type": "error",
     "traceback": [
      "\u001b[1;31m---------------------------------------------------------------------------\u001b[0m",
      "\u001b[1;31mTypeError\u001b[0m                                 Traceback (most recent call last)",
      "Cell \u001b[1;32mIn[5], line 9\u001b[0m\n\u001b[0;32m      6\u001b[0m lr \u001b[38;5;241m=\u001b[39m \u001b[38;5;241m.\u001b[39m\u001b[38;5;241m.\u001b[39m\u001b[38;5;241m.\u001b[39m \u001b[38;5;66;03m# learning rate\u001b[39;00m\n\u001b[0;32m      8\u001b[0m \u001b[38;5;66;03m# define model\u001b[39;00m\n\u001b[1;32m----> 9\u001b[0m model \u001b[38;5;241m=\u001b[39m \u001b[43mFeedforwardNeuralNetwork\u001b[49m\u001b[43m(\u001b[49m\u001b[38;5;241;43m.\u001b[39;49m\u001b[38;5;241;43m.\u001b[39;49m\u001b[38;5;241;43m.\u001b[39;49m\u001b[43m)\u001b[49m\n\u001b[0;32m     11\u001b[0m \u001b[38;5;66;03m# Optimizer\u001b[39;00m\n\u001b[0;32m     12\u001b[0m optimizer \u001b[38;5;241m=\u001b[39m optim\u001b[38;5;241m.\u001b[39mAdam(model\u001b[38;5;241m.\u001b[39mparameters(), lr\u001b[38;5;241m=\u001b[39mlr) \u001b[38;5;66;03m# You can use Adam optimizer or whatever optimizer you want\u001b[39;00m\n",
      "\u001b[1;31mTypeError\u001b[0m: FeedforwardNeuralNetwork.__init__() missing 2 required positional arguments: 'hidden_sizes' and 'output_size'"
     ]
    }
   ],
   "source": [
    "# Train your network:\n",
    "\n",
    "loader_train = DataLoader(F16DS_train, shuffle=True, batch_size=16000) # define data loader \n",
    "\n",
    "epochs = ... # maximum number of epochs\n",
    "lr = ... # learning rate\n",
    "\n",
    "# define model\n",
    "model = FeedforwardNeuralNetwork(...)\n",
    "\n",
    "# Optimizer\n",
    "optimizer = optim.Adam(model.parameters(), lr=lr) # You can use Adam optimizer or whatever optimizer you want\n",
    "\n",
    "print('Optimization started \\n')\n",
    "\n",
    "for epoch in range(epochs):\n",
    "    for x, y in loader_train: #Load samples from data loader\n",
    "        \n",
    "        \n",
    "        # forward pass\n",
    "        \n",
    "        y_hat = model(x)\n",
    "        loss = ... \n",
    "\n",
    "        # Backward and optimize\n",
    "        optimizer.zero_grad() # set gradient to zero\n",
    "        loss.backward() # Backward pass\n",
    "        optimizer.step() # update model parameters\n",
    "\n",
    "    if epoch % 1 == 10: # print every ten epochs\n",
    "        print(f'Epoch [{epoch+1}/{epochs}], Loss: {loss.item()}')\n",
    "        \n",
    "print('Optimization terminated \\n')\n"
   ]
  },
  {
   "cell_type": "markdown",
   "id": "e7edc621",
   "metadata": {},
   "source": [
    "## Step 4: \n",
    "\n",
    "Assess performance on test dataset (it is also a good practice to first assess performance in the training dataset) \n",
    "\n",
    "Performance should be assessed in terms of one-step ahead prediction and simulation.\n",
    "\n",
    "To quantify the performance, compute the RMSE, the $R^2$ coefficient, plot true output and estimate output."
   ]
  },
  {
   "cell_type": "markdown",
   "id": "ae5630df",
   "metadata": {},
   "source": [
    "# Exercise 2 (Recurrent Neural Networks):\n",
    "\n",
    "Repeat the same exercise, but **use an RNN network** (either Vanilla RNN or LSTM) instead of a feedforward network. This allows you to look multi-step ahead in your training, rather than than simple 1-step.\n",
    "\n",
    "Hyper-parameter to select:\n",
    "* structure of the network (namely, size of hidden state, number of layers)\n",
    "* sub-sequence length for training\n",
    "* optimization hyper-parameters (learning rate, maximum number of epochs)\n"
   ]
  },
  {
   "cell_type": "markdown",
   "id": "56969c4b",
   "metadata": {},
   "source": [
    "## Data importing and normalization\n",
    "\n",
    "As in Exercise 2, you can write your scripts to construct the input and the corresponding output sequences to train the network. Alternatively, we have already prepared for you a subclass of the PyTorch class *Dataset*, called *F16DS_seq*, where each sample consists of:\n",
    "- input sub-sequences (in our case, 2 subsequences since we are working with 2 inputs) of length \"seq_len\" (specify by the user).\n",
    "- corresponding output sub-sequences. The output(s) of interest should be specified by the user. \n",
    "\n",
    "See cells below to import the Dataset and use the dataLoader to extract element from the database. Data normalization is also performed. All 3 outputs are imported.\n",
    "\n",
    "Feel free to run the cells below or write your own script to read and process the data. "
   ]
  },
  {
   "cell_type": "code",
   "execution_count": 9,
   "id": "12816910",
   "metadata": {},
   "outputs": [
    {
     "name": "stdout",
     "output_type": "stream",
     "text": [
      "u shape: torch.Size([10, 2000, 2]); 'y shape: ' torch.Size([10, 2000, 3])\n"
     ]
    }
   ],
   "source": [
    "from torch.utils.data import Dataset, DataLoader\n",
    "from dataset import F16DS_seq\n",
    "\n",
    "\n",
    "input_size = 2\n",
    "seq_len = 2000 # Length of the training sub-sequences\n",
    "ind_out = [0, 1, 2] # extract all 3 outputs (index 0,  index 1 and index 2). \n",
    "batch_size = 10 # batch size for the data loader\n",
    "\n",
    "\n",
    "folder = os.path.join('..', 'Datasets', 'F16')\n",
    "f_train_ds =  os.path.join(folder, 'F16Data_SineSw_Level3.csv')\n",
    "f_test_ds = os.path.join(folder, 'F16Data_SineSw_Level4_Validation.csv')\n",
    "\n",
    "\n",
    "dict_ds = {'train': [], 'test': [],}\n",
    "dict_ds['train'] = pd.read_csv(f_train_ds) \n",
    "dict_ds['test'] = pd.read_csv(f_test_ds)\n",
    "\n",
    "\n",
    "ds_mean = dict_ds['train'].mean() \n",
    "ds_std = dict_ds['train'].std()\n",
    "dict_ds['train']  = (dict_ds['train'] - ds_mean)/ds_std\n",
    "dict_ds['test']  = (dict_ds['test'] - ds_mean)/ds_std\n",
    "\n",
    "\n",
    "# Create instance of the class F16DS_seq and plot shape of inputs and outputs\n",
    "F16DS_train = F16DS_seq(pd_file=dict_ds['train'], seq_len = seq_len, ind_out=ind_out)\n",
    "loader_train = DataLoader(F16DS_train, shuffle=True, batch_size=batch_size)\n",
    "u, y = next(iter(loader_train))\n",
    "\n",
    "print(f\"u shape: {u.shape}; 'y shape: ' {y.shape}\")"
   ]
  }
 ],
 "metadata": {
  "kernelspec": {
   "display_name": "Python 3 (ipykernel)",
   "language": "python",
   "name": "python3"
  },
  "language_info": {
   "codemirror_mode": {
    "name": "ipython",
    "version": 3
   },
   "file_extension": ".py",
   "mimetype": "text/x-python",
   "name": "python",
   "nbconvert_exporter": "python",
   "pygments_lexer": "ipython3",
   "version": "3.11.8"
  }
 },
 "nbformat": 4,
 "nbformat_minor": 5
}
