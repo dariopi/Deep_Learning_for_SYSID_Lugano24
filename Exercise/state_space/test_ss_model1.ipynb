{
 "cells": [
  {
   "cell_type": "code",
   "execution_count": null,
   "metadata": {},
   "outputs": [],
   "source": [
    "import nonlinear_benchmarks\n",
    "from nonlinear_benchmarks import error_metrics as metrics\n",
    "import matplotlib.pyplot as plt\n",
    "import torch\n",
    "from model import StateSpaceSimulator"
   ]
  },
  {
   "cell_type": "code",
   "execution_count": null,
   "metadata": {},
   "outputs": [],
   "source": [
    "import torch.nn as nn\n",
    "\n",
    "class NeuralStateUpdate(nn.Module):\n",
    "\n",
    "    def __init__(self, n_x, n_u, n_feat=32):\n",
    "        super(NeuralStateUpdate, self).__init__()\n",
    "        \n",
    "        self.net = nn.Sequential(\n",
    "            nn.Linear(n_x+n_u, n_feat),\n",
    "            nn.Tanh(),\n",
    "            nn.Linear(n_feat, n_x),\n",
    "        )\n",
    "\n",
    "        for m in self.net.modules():\n",
    "            if isinstance(m, nn.Linear):\n",
    "                nn.init.normal_(m.weight, mean=0, std=1e-2)\n",
    "                nn.init.constant_(m.bias, val=0)\n",
    "                    \n",
    "    def forward(self, x, u):\n",
    "        z = torch.cat((x, u), dim=-1)\n",
    "        dx = self.net(z)\n",
    "        return dx\n",
    "    \n",
    "\n",
    "class NeuralOutput(nn.Module):\n",
    "\n",
    "    def __init__(self, n_x, n_y, n_feat=32):\n",
    "        super(NeuralOutput, self).__init__()\n",
    "        \n",
    "        self.net = nn.Sequential(\n",
    "            nn.Linear(n_x, n_feat),\n",
    "            nn.Tanh(),\n",
    "            nn.Linear(n_feat, n_y),\n",
    "        )\n",
    "                    \n",
    "    def forward(self, x):\n",
    "        y = self.net(x)\n",
    "        return y"
   ]
  },
  {
   "cell_type": "code",
   "execution_count": null,
   "metadata": {},
   "outputs": [],
   "source": [
    "# Load training results\n",
    "ckpt = torch.load(\"ckpt_model1.pt\")\n",
    "cfg = ckpt[\"cfg\"]"
   ]
  },
  {
   "cell_type": "code",
   "execution_count": null,
   "metadata": {},
   "outputs": [],
   "source": [
    "# Instantiate model and load trained parameters\n",
    "f_xu = NeuralStateUpdate(cfg.n_x, 1, n_feat=cfg.n_feat)\n",
    "g_x = NeuralOutput(cfg.n_x, n_y=1, n_feat=cfg.n_feat)\n",
    "model = StateSpaceSimulator(f_xu)\n",
    "#x0 = torch.zeros((1, cfg.n_x))\n",
    "x0 = ckpt[\"x0\"] # according to the benchmark description, the test is initialized as the training...\n",
    "f_xu.load_state_dict(ckpt[\"f_xu\"])\n",
    "g_x.load_state_dict(ckpt[\"g_x\"])"
   ]
  },
  {
   "cell_type": "code",
   "execution_count": null,
   "metadata": {},
   "outputs": [],
   "source": [
    "# Load test data\n",
    "#test, _ = nonlinear_benchmarks.Cascaded_Tanks() # train performance\n",
    "_, test = nonlinear_benchmarks.Cascaded_Tanks()\n",
    "u_test, y_test = test\n",
    "u_test = u_test.reshape(-1, 1)\n",
    "y_test = y_test.reshape(-1, 1)\n",
    "ts = test.sampling_time"
   ]
  },
  {
   "cell_type": "code",
   "execution_count": null,
   "metadata": {},
   "outputs": [],
   "source": [
    "# Load scalers\n",
    "scaler_u = ckpt[\"scaler_u\"]\n",
    "scaler_y = ckpt[\"scaler_y\"]"
   ]
  },
  {
   "cell_type": "code",
   "execution_count": null,
   "metadata": {},
   "outputs": [],
   "source": [
    "# Scale u, simulate, and inverse scale result\n",
    "ut = torch.tensor(scaler_u.transform(u_test)).unsqueeze(0).float()\n",
    "with torch.no_grad():\n",
    "    x_sim = model(x0, ut)\n",
    "    y_sim = g_x(x_sim).squeeze(0)\n",
    "    y_test_hat = y_sim.numpy() # output is the second state\n",
    "\n",
    "y_test_hat = scaler_y.inverse_transform(y_test_hat)"
   ]
  },
  {
   "cell_type": "code",
   "execution_count": null,
   "metadata": {},
   "outputs": [],
   "source": [
    "# Plot results\n",
    "plt.figure()\n",
    "plt.plot(y_test, \"k\")\n",
    "plt.plot(y_test_hat, \"b\")\n",
    "plt.plot(y_test_hat - y_test, \"r\")\n",
    "plt.show()"
   ]
  },
  {
   "cell_type": "code",
   "execution_count": null,
   "metadata": {},
   "outputs": [],
   "source": [
    "#mse = np.mean((y_test_hat - y_test)**2)\n",
    "#rmse = np.sqrt(mse) * 1000\n",
    "rmse = metrics.RMSE(y_test_hat, y_test)[0]\n",
    "fit = metrics.fit_index(y_test_hat, y_test)[0]\n",
    "print(f\"{rmse=:.2f} V\\n{fit=:.1f} %\") "
   ]
  }
 ],
 "metadata": {
  "kernelspec": {
   "display_name": "Python 3 (ipykernel)",
   "language": "python",
   "name": "python3"
  },
  "language_info": {
   "codemirror_mode": {
    "name": "ipython",
    "version": 3
   },
   "file_extension": ".py",
   "mimetype": "text/x-python",
   "name": "python",
   "nbconvert_exporter": "python",
   "pygments_lexer": "ipython3",
   "version": "3.11.7"
  }
 },
 "nbformat": 4,
 "nbformat_minor": 4
}
