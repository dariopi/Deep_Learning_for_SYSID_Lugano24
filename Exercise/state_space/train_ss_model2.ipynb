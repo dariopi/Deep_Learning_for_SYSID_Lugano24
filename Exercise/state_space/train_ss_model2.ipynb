{
 "cells": [
  {
   "cell_type": "code",
   "execution_count": null,
   "metadata": {},
   "outputs": [],
   "source": [
    "from argparse import Namespace\n",
    "import nonlinear_benchmarks\n",
    "import matplotlib.pyplot as plt\n",
    "from sklearn.preprocessing import StandardScaler\n",
    "import torch\n",
    "import numpy as np\n",
    "from model import (\n",
    "    StateSpaceSimulator,\n",
    "    NeuralStateUpdate,\n",
    "    CascadedTanksOverflowNeuralStateSpaceModel,\n",
    ")\n",
    "from tqdm import tqdm"
   ]
  },
  {
   "cell_type": "code",
   "execution_count": null,
   "metadata": {},
   "outputs": [],
   "source": [
    "cfg = {\n",
    "    \"n_x\": 2,\n",
    "    \"n_feat\": 32,\n",
    "    \"lr\": 1e-3,\n",
    "}\n",
    "cfg = Namespace(**cfg)"
   ]
  },
  {
   "cell_type": "code",
   "execution_count": null,
   "metadata": {},
   "outputs": [],
   "source": [
    "train_val, test = nonlinear_benchmarks.Cascaded_Tanks()\n",
    "train_u, train_y = train_val\n",
    "train_u = train_u.reshape(-1, 1)  # T, 1\n",
    "train_y = train_y.reshape(-1, 1)  # T, 1"
   ]
  },
  {
   "cell_type": "code",
   "execution_count": null,
   "metadata": {},
   "outputs": [],
   "source": [
    "n_u = train_u.shape[-1]\n",
    "n_y = train_y.shape[-1]"
   ]
  },
  {
   "cell_type": "code",
   "execution_count": null,
   "metadata": {},
   "outputs": [],
   "source": [
    "# Rescale data (Z-score)\n",
    "scaler_u = StandardScaler()\n",
    "u = scaler_u.fit_transform(train_u)\n",
    "\n",
    "scaler_y = StandardScaler()\n",
    "y = scaler_y.fit_transform(train_y)"
   ]
  },
  {
   "cell_type": "code",
   "execution_count": null,
   "metadata": {},
   "outputs": [],
   "source": [
    "f_xu = NeuralStateUpdate(cfg.n_x, n_u, n_feat=cfg.n_feat)\n",
    "# f_xu = CascadedTanksOverflowNeuralStateSpaceModel()\n",
    "model = StateSpaceSimulator(f_xu)\n",
    "x0 = torch.zeros((1, cfg.n_x)).requires_grad_(True)"
   ]
  },
  {
   "cell_type": "code",
   "execution_count": null,
   "metadata": {},
   "outputs": [],
   "source": [
    "opt = torch.optim.AdamW(\n",
    "    [\n",
    "        {\"params\": model.parameters(), \"lr\": cfg.lr},\n",
    "        {\"params\": x0, \"lr\": cfg.lr},\n",
    "    ],\n",
    "    lr=cfg.lr,\n",
    ")"
   ]
  },
  {
   "cell_type": "code",
   "execution_count": null,
   "metadata": {},
   "outputs": [],
   "source": [
    "# Load data\n",
    "u = torch.tensor(u).unsqueeze(0).float()  # B=1, T, 1\n",
    "y = torch.tensor(y).unsqueeze(0).float()  # B=1, T, 1"
   ]
  },
  {
   "cell_type": "code",
   "execution_count": null,
   "metadata": {},
   "outputs": [],
   "source": [
    "LOSS = []\n",
    "# Train loop\n",
    "for itr in tqdm(range(5000)):\n",
    "\n",
    "    x_sim = model(x0, u)\n",
    "    y_pred = x_sim[:, :, [1]]  # output is the second state\n",
    "    loss = torch.nn.functional.mse_loss(y, y_pred)\n",
    "\n",
    "    loss.backward()\n",
    "    opt.step()\n",
    "\n",
    "    opt.zero_grad()\n",
    "    if itr % 100 == 0:\n",
    "        print(loss.item())\n",
    "    LOSS.append(loss.item())"
   ]
  },
  {
   "cell_type": "code",
   "execution_count": null,
   "metadata": {},
   "outputs": [],
   "source": [
    "checkpoint = {\n",
    "    \"scaler_u\": scaler_u,\n",
    "    \"scaler_y\": scaler_y,\n",
    "    \"model\": model.state_dict(),\n",
    "    \"x0\": x0,\n",
    "    \"LOSS\": np.array(LOSS),\n",
    "    \"cfg\": cfg,\n",
    "}\n",
    "\n",
    "torch.save(checkpoint, \"ckpt_model2.pt\")"
   ]
  },
  {
   "cell_type": "code",
   "execution_count": null,
   "metadata": {},
   "outputs": [],
   "source": [
    "plt.plot(LOSS)\n",
    "plt.ylim([0, 0.2])"
   ]
  }
 ],
 "metadata": {
  "kernelspec": {
   "display_name": "Python 3 (ipykernel)",
   "language": "python",
   "name": "python3"
  },
  "language_info": {
   "codemirror_mode": {
    "name": "ipython",
    "version": 3
   },
   "file_extension": ".py",
   "mimetype": "text/x-python",
   "name": "python",
   "nbconvert_exporter": "python",
   "pygments_lexer": "ipython3",
   "version": "3.11.7"
  }
 },
 "nbformat": 4,
 "nbformat_minor": 2
}
