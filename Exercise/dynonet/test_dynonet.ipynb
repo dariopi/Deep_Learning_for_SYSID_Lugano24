{
 "cells": [
  {
   "cell_type": "code",
   "execution_count": null,
   "metadata": {},
   "outputs": [],
   "source": [
    "import torch\n",
    "from torchid.dynonet.module.lti import SisoLinearDynamicalOperator\n",
    "from torchid.dynonet.module.static import SisoStaticNonLinearity\n",
    "import nonlinear_benchmarks\n",
    "from nonlinear_benchmarks import error_metrics as metrics\n",
    "import matplotlib.pyplot as plt\n",
    "import control"
   ]
  },
  {
   "cell_type": "code",
   "execution_count": null,
   "metadata": {},
   "outputs": [],
   "source": [
    "# Load training results\n",
    "ckpt = torch.load(\"ckpt.pt\")\n",
    "cfg = ckpt[\"cfg\"]"
   ]
  },
  {
   "cell_type": "code",
   "execution_count": null,
   "metadata": {},
   "outputs": [],
   "source": [
    "# Instantiate model and load trained parameters\n",
    "model = torch.nn.Sequential(\n",
    "    SisoLinearDynamicalOperator(cfg.n_b, cfg.n_a, n_k=1),\n",
    "    SisoStaticNonLinearity(n_hidden=10, activation=\"tanh\"),\n",
    "    SisoLinearDynamicalOperator(cfg.n_b, cfg.n_a),\n",
    ")\n",
    "model.load_state_dict(ckpt[\"model\"])"
   ]
  },
  {
   "cell_type": "code",
   "execution_count": null,
   "metadata": {},
   "outputs": [],
   "source": [
    "# Load test data\n",
    "_, test = nonlinear_benchmarks.WienerHammerBenchMark()\n",
    "u_test, y_test = test\n",
    "u_test = u_test.reshape(-1, 1)\n",
    "y_test = y_test.reshape(-1, 1)\n",
    "ts = test.sampling_time"
   ]
  },
  {
   "cell_type": "code",
   "execution_count": null,
   "metadata": {},
   "outputs": [],
   "source": [
    "# Load scalers\n",
    "scaler_u = ckpt[\"scaler_u\"]\n",
    "scaler_y = ckpt[\"scaler_y\"]"
   ]
  },
  {
   "cell_type": "code",
   "execution_count": null,
   "metadata": {},
   "outputs": [],
   "source": [
    "# Scale u, simulate, and inverse scale result\n",
    "ut = torch.tensor(scaler_u.transform(u_test)).unsqueeze(0).float()\n",
    "with torch.no_grad():\n",
    "    y_test_hat = model(ut).squeeze(0).numpy()\n",
    "\n",
    "y_test_hat = scaler_y.inverse_transform(y_test_hat)"
   ]
  },
  {
   "cell_type": "code",
   "execution_count": null,
   "metadata": {},
   "outputs": [],
   "source": [
    "# Plot results\n",
    "plt.figure()\n",
    "plt.plot(y_test, \"k\")\n",
    "plt.plot(y_test_hat, \"b\")\n",
    "plt.plot(y_test_hat - y_test, \"r\")\n",
    "plt.show()"
   ]
  },
  {
   "cell_type": "code",
   "execution_count": null,
   "metadata": {},
   "outputs": [],
   "source": [
    "#mse = np.mean((y_test_hat - y_test)**2)\n",
    "#rmse = np.sqrt(mse) * 1000\n",
    "rmse = metrics.RMSE(y_test_hat, y_test)[0]*1000\n",
    "fit = metrics.fit_index(y_test_hat, y_test)[0]\n",
    "print(f\"{rmse=:.2f} mV\\n{fit=:.1f} %\") "
   ]
  },
  {
   "cell_type": "code",
   "execution_count": null,
   "metadata": {},
   "outputs": [],
   "source": [
    "# Inspect blocks\n",
    "G1 = model[0]\n",
    "G1_num, G1_den = G1.get_tfdata()\n",
    "G1_sys = control.TransferFunction(G1_num, G1_den, ts)\n",
    "\n",
    "plt.figure()\n",
    "mag_G1, phase_G1, omega_G1 = control.bode(G1_sys, omega_limits=[1e2, 1e5])\n",
    "plt.suptitle(\"$G_1$ bode plot\");"
   ]
  },
  {
   "cell_type": "code",
   "execution_count": null,
   "metadata": {},
   "outputs": [],
   "source": [
    "G2 = model[2]\n",
    "G2_num, G2_den = G1.get_tfdata()\n",
    "G2_sys = control.TransferFunction(G2_num, G2_den, ts)\n",
    "\n",
    "plt.figure()\n",
    "mag_G2, phase_G2, omega_G2 = control.bode(G1_sys, omega_limits=[1e2, 1e5])\n",
    "plt.suptitle(\"$G_1$ bode plot\");"
   ]
  },
  {
   "cell_type": "code",
   "execution_count": null,
   "metadata": {},
   "outputs": [],
   "source": [
    "F = model[1]\n",
    "with torch.no_grad():\n",
    "    in_nl = G1(ut)\n",
    "    out_nl = F(in_nl)\n",
    "\n",
    "in_nl = in_nl.squeeze(0)\n",
    "out_nl = out_nl.squeeze(0)\n",
    "\n",
    "plt.figure()\n",
    "plt.plot(in_nl, out_nl, 'b*')\n",
    "plt.xlabel('Static non-linearity input (-)')\n",
    "plt.ylabel('Static non-linearity input (-)')\n",
    "plt.grid(True)"
   ]
  }
 ],
 "metadata": {
  "kernelspec": {
   "display_name": "Python 3 (ipykernel)",
   "language": "python",
   "name": "python3"
  },
  "language_info": {
   "codemirror_mode": {
    "name": "ipython",
    "version": 3
   },
   "file_extension": ".py",
   "mimetype": "text/x-python",
   "name": "python",
   "nbconvert_exporter": "python",
   "pygments_lexer": "ipython3",
   "version": "3.9.13"
  }
 },
 "nbformat": 4,
 "nbformat_minor": 4
}
