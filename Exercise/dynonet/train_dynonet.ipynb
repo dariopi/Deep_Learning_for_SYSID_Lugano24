{
 "cells": [
  {
   "cell_type": "code",
   "execution_count": null,
   "metadata": {},
   "outputs": [],
   "source": [
    "from argparse import Namespace\n",
    "import torch\n",
    "import numpy as np\n",
    "from torchid.dynonet.module.lti import SisoLinearDynamicalOperator\n",
    "from torchid.dynonet.module.static import SisoStaticNonLinearity\n",
    "from sklearn.preprocessing import StandardScaler\n",
    "from tqdm import tqdm\n",
    "import nonlinear_benchmarks"
   ]
  },
  {
   "cell_type": "code",
   "execution_count": null,
   "metadata": {},
   "outputs": [],
   "source": [
    "cfg = {\n",
    "    \"n_b\": 8,\n",
    "    \"n_a\": 8,\n",
    "    \"lr\": 2e-4,\n",
    "}\n",
    "cfg = Namespace(**cfg)"
   ]
  },
  {
   "cell_type": "code",
   "execution_count": null,
   "metadata": {},
   "outputs": [],
   "source": [
    "# Load the benchmark data\n",
    "train_val, test = nonlinear_benchmarks.WienerHammerBenchMark()\n",
    "sampling_time = train_val.sampling_time\n",
    "u_train, y_train = train_val\n",
    "u_train = u_train.reshape(-1, 1) # T, 1\n",
    "y_train = y_train.reshape(-1, 1) # T, 1"
   ]
  },
  {
   "cell_type": "code",
   "execution_count": null,
   "metadata": {},
   "outputs": [],
   "source": [
    "# Rescale data (Z-score)\n",
    "scaler_u = StandardScaler()\n",
    "u = scaler_u.fit_transform(u_train)\n",
    "\n",
    "scaler_y = StandardScaler()\n",
    "y = scaler_y.fit_transform(y_train)"
   ]
  },
  {
   "cell_type": "code",
   "execution_count": null,
   "metadata": {},
   "outputs": [],
   "source": [
    "model = torch.nn.Sequential(\n",
    "    SisoLinearDynamicalOperator(cfg.n_b, cfg.n_a, n_k=1),\n",
    "    SisoStaticNonLinearity(n_hidden=10, activation=\"tanh\"),\n",
    "    SisoLinearDynamicalOperator(cfg.n_b, cfg.n_a),\n",
    ")"
   ]
  },
  {
   "cell_type": "code",
   "execution_count": null,
   "metadata": {},
   "outputs": [],
   "source": [
    "optimizer = torch.optim.AdamW(model.parameters(), lr=cfg.lr)"
   ]
  },
  {
   "cell_type": "code",
   "execution_count": null,
   "metadata": {},
   "outputs": [],
   "source": [
    "# Configure optimizer\n",
    "opt = torch.optim.AdamW(model.parameters(), lr=2e-4)"
   ]
  },
  {
   "cell_type": "code",
   "execution_count": null,
   "metadata": {},
   "outputs": [],
   "source": [
    "# Load data\n",
    "u = torch.tensor(u).unsqueeze(0).float() # B=1, T, 1\n",
    "y = torch.tensor(y).unsqueeze(0).float() # B=1, T, 1"
   ]
  },
  {
   "cell_type": "code",
   "execution_count": null,
   "metadata": {},
   "outputs": [],
   "source": [
    "LOSS = []\n",
    "# Train loop\n",
    "for itr in tqdm(range(5000)):\n",
    "\n",
    "    y_pred = model(u)\n",
    "    loss = torch.nn.functional.mse_loss(y, y_pred)\n",
    "\n",
    "    loss.backward()\n",
    "    opt.step()\n",
    "\n",
    "    opt.zero_grad()\n",
    "    if itr % 100 == 0:\n",
    "        print(loss.item())\n",
    "    LOSS.append(loss.item())"
   ]
  },
  {
   "cell_type": "code",
   "execution_count": null,
   "metadata": {},
   "outputs": [],
   "source": [
    "checkpoint = {\n",
    "    'scaler_u': scaler_u,\n",
    "    'scaler_y': scaler_y,\n",
    "    'model': model.state_dict(),\n",
    "    'LOSS': np.array(LOSS),\n",
    "    'cfg': cfg\n",
    "}\n",
    "\n",
    "torch.save(checkpoint, \"ckpt.pt\")"
   ]
  }
 ],
 "metadata": {
  "kernelspec": {
   "display_name": "Python 3 (ipykernel)",
   "language": "python",
   "name": "python3"
  },
  "language_info": {
   "codemirror_mode": {
    "name": "ipython",
    "version": 3
   },
   "file_extension": ".py",
   "mimetype": "text/x-python",
   "name": "python",
   "nbconvert_exporter": "python",
   "pygments_lexer": "ipython3",
   "version": "3.9.13"
  }
 },
 "nbformat": 4,
 "nbformat_minor": 4
}
