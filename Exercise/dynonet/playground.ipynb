{
 "cells": [
  {
   "cell_type": "code",
   "execution_count": 85,
   "metadata": {},
   "outputs": [],
   "source": [
    "import torch\n",
    "import torch.nn as nn\n",
    "from torchid.dynonet.module.lti import MimoLinearDynamicalOperator, SisoLinearDynamicalOperator\n",
    "from torchid.dynonet.module.static import MimoStaticNonLinearity, MimoChannelWiseNonLinearity"
   ]
  },
  {
   "cell_type": "code",
   "execution_count": 86,
   "metadata": {},
   "outputs": [],
   "source": [
    "# Let us sketch a PWH model:\n",
    "# - 3 inputs\n",
    "# - 4 outputs\n",
    "# - 10 branches\n",
    "#    u ---> [3x10 LTI] ---> [10x10 FULL STATIC] ---> [10x4 LTI] ---> y\n"
   ]
  },
  {
   "cell_type": "code",
   "execution_count": 87,
   "metadata": {},
   "outputs": [],
   "source": [
    "B, T, U, H, Y = 32, 10_000, 3, 10, 4"
   ]
  },
  {
   "cell_type": "code",
   "execution_count": 88,
   "metadata": {},
   "outputs": [],
   "source": [
    "batch_u = torch.randn((B, T, U))"
   ]
  },
  {
   "cell_type": "code",
   "execution_count": 89,
   "metadata": {},
   "outputs": [],
   "source": [
    "G1 = MimoLinearDynamicalOperator(U, H, n_a=3, n_b=4, n_k=0)"
   ]
  },
  {
   "cell_type": "code",
   "execution_count": 90,
   "metadata": {},
   "outputs": [],
   "source": [
    "x = G1(batch_u)"
   ]
  },
  {
   "cell_type": "code",
   "execution_count": 91,
   "metadata": {},
   "outputs": [
    {
     "data": {
      "text/plain": [
       "torch.Size([32, 10000, 10])"
      ]
     },
     "execution_count": 91,
     "metadata": {},
     "output_type": "execute_result"
    }
   ],
   "source": [
    "x.shape"
   ]
  },
  {
   "cell_type": "code",
   "execution_count": 92,
   "metadata": {},
   "outputs": [
    {
     "data": {
      "text/plain": [
       "torch.Size([32, 10000, 10])"
      ]
     },
     "execution_count": 92,
     "metadata": {},
     "output_type": "execute_result"
    }
   ],
   "source": [
    "F = MimoStaticNonLinearity(H, H)\n",
    "x1 = G1(batch_u)\n",
    "x1.shape"
   ]
  },
  {
   "cell_type": "code",
   "execution_count": 93,
   "metadata": {},
   "outputs": [
    {
     "data": {
      "text/plain": [
       "torch.Size([32, 10000, 10])"
      ]
     },
     "execution_count": 93,
     "metadata": {},
     "output_type": "execute_result"
    }
   ],
   "source": [
    "x2 = F(x1)\n",
    "x2.shape"
   ]
  },
  {
   "cell_type": "code",
   "execution_count": 94,
   "metadata": {},
   "outputs": [],
   "source": [
    "G2 = MimoLinearDynamicalOperator(H, Y, n_a=3, n_b=4, n_k=0)"
   ]
  },
  {
   "cell_type": "code",
   "execution_count": 95,
   "metadata": {},
   "outputs": [
    {
     "data": {
      "text/plain": [
       "torch.Size([32, 10000, 4])"
      ]
     },
     "execution_count": 95,
     "metadata": {},
     "output_type": "execute_result"
    }
   ],
   "source": [
    "y = G2(x2)\n",
    "y.shape"
   ]
  },
  {
   "cell_type": "code",
   "execution_count": 96,
   "metadata": {},
   "outputs": [],
   "source": [
    "model = nn.Sequential(\n",
    "    MimoLinearDynamicalOperator(U, H, n_a=3, n_b=4, n_k=0), # G1\n",
    "    MimoStaticNonLinearity(H, H), # F\n",
    "    MimoLinearDynamicalOperator(H, Y, n_a=3, n_b=4, n_k=0) # G2\n",
    ")"
   ]
  },
  {
   "cell_type": "code",
   "execution_count": 97,
   "metadata": {},
   "outputs": [
    {
     "data": {
      "text/plain": [
       "torch.Size([32, 10000, 4])"
      ]
     },
     "execution_count": 97,
     "metadata": {},
     "output_type": "execute_result"
    }
   ],
   "source": [
    "batch_y = model(batch_u)\n",
    "batch_y.shape"
   ]
  },
  {
   "cell_type": "code",
   "execution_count": 98,
   "metadata": {},
   "outputs": [
    {
     "data": {
      "text/plain": [
       "Sequential(\n",
       "  (0): MimoLinearDynamicalOperator()\n",
       "  (1): MimoStaticNonLinearity(\n",
       "    (net): Sequential(\n",
       "      (0): Linear(in_features=10, out_features=20, bias=True)\n",
       "      (1): Tanh()\n",
       "      (2): Linear(in_features=20, out_features=10, bias=True)\n",
       "    )\n",
       "  )\n",
       "  (2): MimoLinearDynamicalOperator()\n",
       ")"
      ]
     },
     "execution_count": 98,
     "metadata": {},
     "output_type": "execute_result"
    }
   ],
   "source": [
    "model"
   ]
  },
  {
   "cell_type": "code",
   "execution_count": 99,
   "metadata": {},
   "outputs": [
    {
     "data": {
      "text/plain": [
       "MimoLinearDynamicalOperator()"
      ]
     },
     "execution_count": 99,
     "metadata": {},
     "output_type": "execute_result"
    }
   ],
   "source": [
    "from collections import OrderedDict\n",
    "\n",
    "model = nn.Sequential(OrderedDict([\n",
    "            ('G1', MimoLinearDynamicalOperator(U, H, n_a=3, n_b=4, n_k=0)),\n",
    "            ('F',  MimoStaticNonLinearity(H, H), ),\n",
    "            ('G2', MimoLinearDynamicalOperator(H, Y, n_a=3, n_b=4, n_k=0)),\n",
    "]))\n",
    "model.G1"
   ]
  },
  {
   "cell_type": "code",
   "execution_count": 100,
   "metadata": {},
   "outputs": [],
   "source": [
    "class CustomDynonet(nn.Module):\n",
    "    def __init__(self, n=2):\n",
    "        super().__init__()\n",
    "        self.net = nn.Sequential(\n",
    "            MimoLinearDynamicalOperator(1, 4, n_a=n, n_b=n+1, n_k=0), # G1\n",
    "            MimoStaticNonLinearity(4, 3), # F\n",
    "            MimoLinearDynamicalOperator(3, 1, n_a=n, n_b=n+1, n_k=0) # G2\n",
    "        )\n",
    "        self.G = SisoLinearDynamicalOperator(n_a=n, n_b=n+1)\n",
    "\n",
    "    def forward(self, u):\n",
    "        y = self.net(u) + self.G(u)\n",
    "        return y"
   ]
  },
  {
   "cell_type": "code",
   "execution_count": 101,
   "metadata": {},
   "outputs": [
    {
     "data": {
      "text/plain": [
       "torch.Size([32, 10000, 1])"
      ]
     },
     "execution_count": 101,
     "metadata": {},
     "output_type": "execute_result"
    }
   ],
   "source": [
    "batch_u = torch.randn(B, T, 1)\n",
    "model = CustomDynonet(n=2)\n",
    "model(batch_u).shape"
   ]
  }
 ],
 "metadata": {
  "kernelspec": {
   "display_name": "Python 3 (ipykernel)",
   "language": "python",
   "name": "python3"
  },
  "language_info": {
   "codemirror_mode": {
    "name": "ipython",
    "version": 3
   },
   "file_extension": ".py",
   "mimetype": "text/x-python",
   "name": "python",
   "nbconvert_exporter": "python",
   "pygments_lexer": "ipython3",
   "version": "3.11.0"
  }
 },
 "nbformat": 4,
 "nbformat_minor": 4
}
